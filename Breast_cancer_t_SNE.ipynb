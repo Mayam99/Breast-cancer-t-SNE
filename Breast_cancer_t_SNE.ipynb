{
  "nbformat": 4,
  "nbformat_minor": 0,
  "metadata": {
    "colab": {
      "provenance": []
    },
    "kernelspec": {
      "name": "python3",
      "display_name": "Python 3"
    },
    "language_info": {
      "name": "python"
    }
  },
  "cells": [
    {
      "cell_type": "markdown",
      "source": [
        "#Introduction\n",
        "\n",
        "###The Breast Cancer Gene Expression dataset (CuMiDa GSE45827) from Kaggle is a gene expression dataset used for studying breast cancer diagnosis through microarray technology. The dataset was created as part of the CuMiDa collection, focusing on cancer classification tasks. Microarrays measure the expression levels of large numbers of genes simultaneously, offering insights into which genes are upregulated or downregulated in cancerous versus healthy tissues.\n",
        "\n",
        "##Key Features of the Dataset:\n",
        "\n",
        "###1. Gene Expression Data: The dataset contains numerical gene expression values for a variety of genes across multiple samples. Each sample represents a patient’s gene expression profile.\n",
        "\n",
        "###2. Microarray Experiment: The data originates from microarray experiments, where gene activity is measured by detecting mRNA levels. It provides crucial information for identifying molecular markers and classifying samples based on cancer subtypes.\n",
        "\n",
        "###3. Sample Categories: The dataset includes labels categorizing each sample as either \"cancer\" or \"normal,\" helping in distinguishing between malignant and non-malignant tissues.\n",
        "\n",
        "###4. Dimensionality: The dataset is high-dimensional, with thousands of gene expression features. This makes it an ideal candidate for techniques like t-SNE (t-Distributed Stochastic Neighbor Embedding), which can reduce dimensionality while preserving relationships between samples.\n",
        "\n",
        "###5. Applications: This dataset is valuable for exploring how specific genes contribute to breast cancer progression, and can be used for classification, clustering, and visual exploration tasks.\n",
        "\n",
        "##Objective:\n",
        "\n",
        "###For your t-SNE project, the main goal would be to reduce the high-dimensional gene expression data to a 2D or 3D space to visualize the clustering patterns of cancerous versus non-cancerous samples. The t-SNE method can reveal inherent patterns and separations, aiding in identifying important gene expressions or patient subgroups relevant to breast cancer research.\n",
        "\n",
        "Source: https://www.kaggle.com/datasets/brunogrisci/breast-cancer-gene-expression-cumida/data"
      ],
      "metadata": {
        "id": "6kHqdQo7DR32"
      }
    },
    {
      "cell_type": "code",
      "execution_count": 2,
      "metadata": {
        "colab": {
          "base_uri": "https://localhost:8080/"
        },
        "id": "lEJHx5oATrX2",
        "outputId": "f552641d-9a01-4af4-bbf6-11ce34bb6248"
      },
      "outputs": [
        {
          "output_type": "stream",
          "name": "stdout",
          "text": [
            "Collecting bioinfokit\n",
            "  Downloading bioinfokit-2.1.4.tar.gz (88 kB)\n",
            "\u001b[?25l     \u001b[90m━━━━━━━━━━━━━━━━━━━━━━━━━━━━━━━━━━━━━━━━\u001b[0m \u001b[32m0.0/88.1 kB\u001b[0m \u001b[31m?\u001b[0m eta \u001b[36m-:--:--\u001b[0m\r\u001b[2K     \u001b[90m━━━━━━━━━━━━━━━━━━━━━━━━━━━━━━━━━━━━━━━━\u001b[0m \u001b[32m88.1/88.1 kB\u001b[0m \u001b[31m3.6 MB/s\u001b[0m eta \u001b[36m0:00:00\u001b[0m\n",
            "\u001b[?25h  Preparing metadata (setup.py) ... \u001b[?25l\u001b[?25hdone\n",
            "Requirement already satisfied: pandas in /usr/local/lib/python3.10/dist-packages (from bioinfokit) (2.1.4)\n",
            "Requirement already satisfied: numpy in /usr/local/lib/python3.10/dist-packages (from bioinfokit) (1.26.4)\n",
            "Requirement already satisfied: matplotlib in /usr/local/lib/python3.10/dist-packages (from bioinfokit) (3.7.1)\n",
            "Requirement already satisfied: scipy in /usr/local/lib/python3.10/dist-packages (from bioinfokit) (1.13.1)\n",
            "Requirement already satisfied: scikit-learn in /usr/local/lib/python3.10/dist-packages (from bioinfokit) (1.3.2)\n",
            "Requirement already satisfied: seaborn in /usr/local/lib/python3.10/dist-packages (from bioinfokit) (0.13.1)\n",
            "Requirement already satisfied: matplotlib-venn in /usr/local/lib/python3.10/dist-packages (from bioinfokit) (0.11.10)\n",
            "Requirement already satisfied: tabulate in /usr/local/lib/python3.10/dist-packages (from bioinfokit) (0.9.0)\n",
            "Requirement already satisfied: statsmodels in /usr/local/lib/python3.10/dist-packages (from bioinfokit) (0.14.2)\n",
            "Collecting textwrap3 (from bioinfokit)\n",
            "  Downloading textwrap3-0.9.2-py2.py3-none-any.whl.metadata (4.6 kB)\n",
            "Collecting adjustText (from bioinfokit)\n",
            "  Downloading adjustText-1.2.0-py3-none-any.whl.metadata (3.0 kB)\n",
            "Requirement already satisfied: contourpy>=1.0.1 in /usr/local/lib/python3.10/dist-packages (from matplotlib->bioinfokit) (1.2.1)\n",
            "Requirement already satisfied: cycler>=0.10 in /usr/local/lib/python3.10/dist-packages (from matplotlib->bioinfokit) (0.12.1)\n",
            "Requirement already satisfied: fonttools>=4.22.0 in /usr/local/lib/python3.10/dist-packages (from matplotlib->bioinfokit) (4.53.1)\n",
            "Requirement already satisfied: kiwisolver>=1.0.1 in /usr/local/lib/python3.10/dist-packages (from matplotlib->bioinfokit) (1.4.5)\n",
            "Requirement already satisfied: packaging>=20.0 in /usr/local/lib/python3.10/dist-packages (from matplotlib->bioinfokit) (24.1)\n",
            "Requirement already satisfied: pillow>=6.2.0 in /usr/local/lib/python3.10/dist-packages (from matplotlib->bioinfokit) (9.4.0)\n",
            "Requirement already satisfied: pyparsing>=2.3.1 in /usr/local/lib/python3.10/dist-packages (from matplotlib->bioinfokit) (3.1.2)\n",
            "Requirement already satisfied: python-dateutil>=2.7 in /usr/local/lib/python3.10/dist-packages (from matplotlib->bioinfokit) (2.8.2)\n",
            "Requirement already satisfied: pytz>=2020.1 in /usr/local/lib/python3.10/dist-packages (from pandas->bioinfokit) (2024.1)\n",
            "Requirement already satisfied: tzdata>=2022.1 in /usr/local/lib/python3.10/dist-packages (from pandas->bioinfokit) (2024.1)\n",
            "Requirement already satisfied: joblib>=1.1.1 in /usr/local/lib/python3.10/dist-packages (from scikit-learn->bioinfokit) (1.4.2)\n",
            "Requirement already satisfied: threadpoolctl>=2.0.0 in /usr/local/lib/python3.10/dist-packages (from scikit-learn->bioinfokit) (3.5.0)\n",
            "Requirement already satisfied: patsy>=0.5.6 in /usr/local/lib/python3.10/dist-packages (from statsmodels->bioinfokit) (0.5.6)\n",
            "Requirement already satisfied: six in /usr/local/lib/python3.10/dist-packages (from patsy>=0.5.6->statsmodels->bioinfokit) (1.16.0)\n",
            "Downloading adjustText-1.2.0-py3-none-any.whl (12 kB)\n",
            "Downloading textwrap3-0.9.2-py2.py3-none-any.whl (12 kB)\n",
            "Building wheels for collected packages: bioinfokit\n",
            "  Building wheel for bioinfokit (setup.py) ... \u001b[?25l\u001b[?25hdone\n",
            "  Created wheel for bioinfokit: filename=bioinfokit-2.1.4-py3-none-any.whl size=59220 sha256=5ab16b1e5e78980ec614039522ca5114ec2c8b44ae3c80e69d352ccc78376164\n",
            "  Stored in directory: /root/.cache/pip/wheels/45/b1/91/212510cab723ee76a25180836e8897f926820382374184b017\n",
            "Successfully built bioinfokit\n",
            "Installing collected packages: textwrap3, adjustText, bioinfokit\n",
            "Successfully installed adjustText-1.2.0 bioinfokit-2.1.4 textwrap3-0.9.2\n"
          ]
        }
      ],
      "source": [
        "!pip install bioinfokit\n"
      ]
    },
    {
      "cell_type": "markdown",
      "source": [
        "##Importing Necessary Libraries"
      ],
      "metadata": {
        "id": "Lursh0fRvWYJ"
      }
    },
    {
      "cell_type": "code",
      "source": [
        "import pandas as pd # Pandas is a powerful library for data manipulation and analysis.\n",
        "import numpy as np # NumPy is a powerful tool for numerical computations in Python\n",
        "\n",
        "from sklearn.manifold import TSNE #Imports the TSNE class from sklearn.manifold for dimensionality reduction.\n",
        "from bioinfokit.visuz import cluster #The cluster module from bioinfokit.visuz for visualizing clustering results."
      ],
      "metadata": {
        "id": "jLZLVWj8XfIS"
      },
      "execution_count": 3,
      "outputs": []
    },
    {
      "cell_type": "markdown",
      "source": [
        "#Loading the Dataset"
      ],
      "metadata": {
        "id": "Ix3FcHm07Mz8"
      }
    },
    {
      "cell_type": "code",
      "source": [
        "df = pd.read_csv('Breast_GSE45827.csv') #The df = pd.read_csv line reads a CSV file into a DataFrame named df using the pandas library."
      ],
      "metadata": {
        "id": "6UEHufn2X1bE"
      },
      "execution_count": 4,
      "outputs": []
    },
    {
      "cell_type": "code",
      "source": [
        "df.head() #We will now read the data from a CSV file into a Pandas DataFrame Let us have a look at how our dataset looks like using df.head()"
      ],
      "metadata": {
        "colab": {
          "base_uri": "https://localhost:8080/",
          "height": 253
        },
        "id": "Y5vk3tbT6lE6",
        "outputId": "9804e91a-0be5-42b8-ff19-a4f854aea7c3"
      },
      "execution_count": 5,
      "outputs": [
        {
          "output_type": "execute_result",
          "data": {
            "text/plain": [
              "   samples   type  1007_s_at   1053_at    117_at    121_at  1255_g_at  \\\n",
              "0       84  basal   9.850040  8.097927  6.424728  7.353027   3.029122   \n",
              "1       85  basal   9.861357  8.212222  7.062593  7.685578   3.149468   \n",
              "2       87  basal  10.103478  8.936137  5.735970  7.687822   3.125931   \n",
              "3       90  basal   9.756875  7.357148  6.479183  6.986624   3.181638   \n",
              "4       91  basal   9.408330  7.746404  6.693980  7.333426   3.169923   \n",
              "\n",
              "    1294_at   1316_at   1320_at  ...  AFFX-r2-Ec-bioD-3_at  \\\n",
              "0  6.880079  4.963740  4.408328  ...             12.229711   \n",
              "1  7.542283  5.129607  4.584418  ...             12.178531   \n",
              "2  6.562369  4.813449  4.425195  ...             12.125108   \n",
              "3  7.802344  5.490982  4.567956  ...             12.111235   \n",
              "4  7.610457  5.372469  4.424426  ...             12.173642   \n",
              "\n",
              "   AFFX-r2-Ec-bioD-5_at  AFFX-r2-P1-cre-3_at  AFFX-r2-P1-cre-5_at  \\\n",
              "0             11.852955            13.658701            13.477698   \n",
              "1             11.809408            13.750086            13.470146   \n",
              "2             11.725766            13.621732            13.295080   \n",
              "3             11.719215            13.743108            13.508861   \n",
              "4             11.861296            13.797774            13.542206   \n",
              "\n",
              "   AFFX-ThrX-3_at  AFFX-ThrX-5_at  AFFX-ThrX-M_at  AFFX-TrpnX-3_at  \\\n",
              "0        6.265781        5.016196        4.901594         2.966657   \n",
              "1        6.771853        5.291005        5.405839         2.934763   \n",
              "2        6.346952        5.171403        5.184286         2.847684   \n",
              "3        6.610284        5.193356        5.086569         3.031602   \n",
              "4        6.414354        5.040202        5.235318         2.956232   \n",
              "\n",
              "   AFFX-TrpnX-5_at  AFFX-TrpnX-M_at  \n",
              "0         3.508495         3.301999  \n",
              "1         3.687666         3.064299  \n",
              "2         3.550597         3.158535  \n",
              "3         3.524981         3.272665  \n",
              "4         3.445501         3.193947  \n",
              "\n",
              "[5 rows x 54677 columns]"
            ],
            "text/html": [
              "\n",
              "  <div id=\"df-62afa2fc-78c4-404f-a3f8-229c09461e60\" class=\"colab-df-container\">\n",
              "    <div>\n",
              "<style scoped>\n",
              "    .dataframe tbody tr th:only-of-type {\n",
              "        vertical-align: middle;\n",
              "    }\n",
              "\n",
              "    .dataframe tbody tr th {\n",
              "        vertical-align: top;\n",
              "    }\n",
              "\n",
              "    .dataframe thead th {\n",
              "        text-align: right;\n",
              "    }\n",
              "</style>\n",
              "<table border=\"1\" class=\"dataframe\">\n",
              "  <thead>\n",
              "    <tr style=\"text-align: right;\">\n",
              "      <th></th>\n",
              "      <th>samples</th>\n",
              "      <th>type</th>\n",
              "      <th>1007_s_at</th>\n",
              "      <th>1053_at</th>\n",
              "      <th>117_at</th>\n",
              "      <th>121_at</th>\n",
              "      <th>1255_g_at</th>\n",
              "      <th>1294_at</th>\n",
              "      <th>1316_at</th>\n",
              "      <th>1320_at</th>\n",
              "      <th>...</th>\n",
              "      <th>AFFX-r2-Ec-bioD-3_at</th>\n",
              "      <th>AFFX-r2-Ec-bioD-5_at</th>\n",
              "      <th>AFFX-r2-P1-cre-3_at</th>\n",
              "      <th>AFFX-r2-P1-cre-5_at</th>\n",
              "      <th>AFFX-ThrX-3_at</th>\n",
              "      <th>AFFX-ThrX-5_at</th>\n",
              "      <th>AFFX-ThrX-M_at</th>\n",
              "      <th>AFFX-TrpnX-3_at</th>\n",
              "      <th>AFFX-TrpnX-5_at</th>\n",
              "      <th>AFFX-TrpnX-M_at</th>\n",
              "    </tr>\n",
              "  </thead>\n",
              "  <tbody>\n",
              "    <tr>\n",
              "      <th>0</th>\n",
              "      <td>84</td>\n",
              "      <td>basal</td>\n",
              "      <td>9.850040</td>\n",
              "      <td>8.097927</td>\n",
              "      <td>6.424728</td>\n",
              "      <td>7.353027</td>\n",
              "      <td>3.029122</td>\n",
              "      <td>6.880079</td>\n",
              "      <td>4.963740</td>\n",
              "      <td>4.408328</td>\n",
              "      <td>...</td>\n",
              "      <td>12.229711</td>\n",
              "      <td>11.852955</td>\n",
              "      <td>13.658701</td>\n",
              "      <td>13.477698</td>\n",
              "      <td>6.265781</td>\n",
              "      <td>5.016196</td>\n",
              "      <td>4.901594</td>\n",
              "      <td>2.966657</td>\n",
              "      <td>3.508495</td>\n",
              "      <td>3.301999</td>\n",
              "    </tr>\n",
              "    <tr>\n",
              "      <th>1</th>\n",
              "      <td>85</td>\n",
              "      <td>basal</td>\n",
              "      <td>9.861357</td>\n",
              "      <td>8.212222</td>\n",
              "      <td>7.062593</td>\n",
              "      <td>7.685578</td>\n",
              "      <td>3.149468</td>\n",
              "      <td>7.542283</td>\n",
              "      <td>5.129607</td>\n",
              "      <td>4.584418</td>\n",
              "      <td>...</td>\n",
              "      <td>12.178531</td>\n",
              "      <td>11.809408</td>\n",
              "      <td>13.750086</td>\n",
              "      <td>13.470146</td>\n",
              "      <td>6.771853</td>\n",
              "      <td>5.291005</td>\n",
              "      <td>5.405839</td>\n",
              "      <td>2.934763</td>\n",
              "      <td>3.687666</td>\n",
              "      <td>3.064299</td>\n",
              "    </tr>\n",
              "    <tr>\n",
              "      <th>2</th>\n",
              "      <td>87</td>\n",
              "      <td>basal</td>\n",
              "      <td>10.103478</td>\n",
              "      <td>8.936137</td>\n",
              "      <td>5.735970</td>\n",
              "      <td>7.687822</td>\n",
              "      <td>3.125931</td>\n",
              "      <td>6.562369</td>\n",
              "      <td>4.813449</td>\n",
              "      <td>4.425195</td>\n",
              "      <td>...</td>\n",
              "      <td>12.125108</td>\n",
              "      <td>11.725766</td>\n",
              "      <td>13.621732</td>\n",
              "      <td>13.295080</td>\n",
              "      <td>6.346952</td>\n",
              "      <td>5.171403</td>\n",
              "      <td>5.184286</td>\n",
              "      <td>2.847684</td>\n",
              "      <td>3.550597</td>\n",
              "      <td>3.158535</td>\n",
              "    </tr>\n",
              "    <tr>\n",
              "      <th>3</th>\n",
              "      <td>90</td>\n",
              "      <td>basal</td>\n",
              "      <td>9.756875</td>\n",
              "      <td>7.357148</td>\n",
              "      <td>6.479183</td>\n",
              "      <td>6.986624</td>\n",
              "      <td>3.181638</td>\n",
              "      <td>7.802344</td>\n",
              "      <td>5.490982</td>\n",
              "      <td>4.567956</td>\n",
              "      <td>...</td>\n",
              "      <td>12.111235</td>\n",
              "      <td>11.719215</td>\n",
              "      <td>13.743108</td>\n",
              "      <td>13.508861</td>\n",
              "      <td>6.610284</td>\n",
              "      <td>5.193356</td>\n",
              "      <td>5.086569</td>\n",
              "      <td>3.031602</td>\n",
              "      <td>3.524981</td>\n",
              "      <td>3.272665</td>\n",
              "    </tr>\n",
              "    <tr>\n",
              "      <th>4</th>\n",
              "      <td>91</td>\n",
              "      <td>basal</td>\n",
              "      <td>9.408330</td>\n",
              "      <td>7.746404</td>\n",
              "      <td>6.693980</td>\n",
              "      <td>7.333426</td>\n",
              "      <td>3.169923</td>\n",
              "      <td>7.610457</td>\n",
              "      <td>5.372469</td>\n",
              "      <td>4.424426</td>\n",
              "      <td>...</td>\n",
              "      <td>12.173642</td>\n",
              "      <td>11.861296</td>\n",
              "      <td>13.797774</td>\n",
              "      <td>13.542206</td>\n",
              "      <td>6.414354</td>\n",
              "      <td>5.040202</td>\n",
              "      <td>5.235318</td>\n",
              "      <td>2.956232</td>\n",
              "      <td>3.445501</td>\n",
              "      <td>3.193947</td>\n",
              "    </tr>\n",
              "  </tbody>\n",
              "</table>\n",
              "<p>5 rows × 54677 columns</p>\n",
              "</div>\n",
              "    <div class=\"colab-df-buttons\">\n",
              "\n",
              "  <div class=\"colab-df-container\">\n",
              "    <button class=\"colab-df-convert\" onclick=\"convertToInteractive('df-62afa2fc-78c4-404f-a3f8-229c09461e60')\"\n",
              "            title=\"Convert this dataframe to an interactive table.\"\n",
              "            style=\"display:none;\">\n",
              "\n",
              "  <svg xmlns=\"http://www.w3.org/2000/svg\" height=\"24px\" viewBox=\"0 -960 960 960\">\n",
              "    <path d=\"M120-120v-720h720v720H120Zm60-500h600v-160H180v160Zm220 220h160v-160H400v160Zm0 220h160v-160H400v160ZM180-400h160v-160H180v160Zm440 0h160v-160H620v160ZM180-180h160v-160H180v160Zm440 0h160v-160H620v160Z\"/>\n",
              "  </svg>\n",
              "    </button>\n",
              "\n",
              "  <style>\n",
              "    .colab-df-container {\n",
              "      display:flex;\n",
              "      gap: 12px;\n",
              "    }\n",
              "\n",
              "    .colab-df-convert {\n",
              "      background-color: #E8F0FE;\n",
              "      border: none;\n",
              "      border-radius: 50%;\n",
              "      cursor: pointer;\n",
              "      display: none;\n",
              "      fill: #1967D2;\n",
              "      height: 32px;\n",
              "      padding: 0 0 0 0;\n",
              "      width: 32px;\n",
              "    }\n",
              "\n",
              "    .colab-df-convert:hover {\n",
              "      background-color: #E2EBFA;\n",
              "      box-shadow: 0px 1px 2px rgba(60, 64, 67, 0.3), 0px 1px 3px 1px rgba(60, 64, 67, 0.15);\n",
              "      fill: #174EA6;\n",
              "    }\n",
              "\n",
              "    .colab-df-buttons div {\n",
              "      margin-bottom: 4px;\n",
              "    }\n",
              "\n",
              "    [theme=dark] .colab-df-convert {\n",
              "      background-color: #3B4455;\n",
              "      fill: #D2E3FC;\n",
              "    }\n",
              "\n",
              "    [theme=dark] .colab-df-convert:hover {\n",
              "      background-color: #434B5C;\n",
              "      box-shadow: 0px 1px 3px 1px rgba(0, 0, 0, 0.15);\n",
              "      filter: drop-shadow(0px 1px 2px rgba(0, 0, 0, 0.3));\n",
              "      fill: #FFFFFF;\n",
              "    }\n",
              "  </style>\n",
              "\n",
              "    <script>\n",
              "      const buttonEl =\n",
              "        document.querySelector('#df-62afa2fc-78c4-404f-a3f8-229c09461e60 button.colab-df-convert');\n",
              "      buttonEl.style.display =\n",
              "        google.colab.kernel.accessAllowed ? 'block' : 'none';\n",
              "\n",
              "      async function convertToInteractive(key) {\n",
              "        const element = document.querySelector('#df-62afa2fc-78c4-404f-a3f8-229c09461e60');\n",
              "        const dataTable =\n",
              "          await google.colab.kernel.invokeFunction('convertToInteractive',\n",
              "                                                    [key], {});\n",
              "        if (!dataTable) return;\n",
              "\n",
              "        const docLinkHtml = 'Like what you see? Visit the ' +\n",
              "          '<a target=\"_blank\" href=https://colab.research.google.com/notebooks/data_table.ipynb>data table notebook</a>'\n",
              "          + ' to learn more about interactive tables.';\n",
              "        element.innerHTML = '';\n",
              "        dataTable['output_type'] = 'display_data';\n",
              "        await google.colab.output.renderOutput(dataTable, element);\n",
              "        const docLink = document.createElement('div');\n",
              "        docLink.innerHTML = docLinkHtml;\n",
              "        element.appendChild(docLink);\n",
              "      }\n",
              "    </script>\n",
              "  </div>\n",
              "\n",
              "\n",
              "<div id=\"df-5db00367-c8b1-404f-bf09-aa2ee1621c1a\">\n",
              "  <button class=\"colab-df-quickchart\" onclick=\"quickchart('df-5db00367-c8b1-404f-bf09-aa2ee1621c1a')\"\n",
              "            title=\"Suggest charts\"\n",
              "            style=\"display:none;\">\n",
              "\n",
              "<svg xmlns=\"http://www.w3.org/2000/svg\" height=\"24px\"viewBox=\"0 0 24 24\"\n",
              "     width=\"24px\">\n",
              "    <g>\n",
              "        <path d=\"M19 3H5c-1.1 0-2 .9-2 2v14c0 1.1.9 2 2 2h14c1.1 0 2-.9 2-2V5c0-1.1-.9-2-2-2zM9 17H7v-7h2v7zm4 0h-2V7h2v10zm4 0h-2v-4h2v4z\"/>\n",
              "    </g>\n",
              "</svg>\n",
              "  </button>\n",
              "\n",
              "<style>\n",
              "  .colab-df-quickchart {\n",
              "      --bg-color: #E8F0FE;\n",
              "      --fill-color: #1967D2;\n",
              "      --hover-bg-color: #E2EBFA;\n",
              "      --hover-fill-color: #174EA6;\n",
              "      --disabled-fill-color: #AAA;\n",
              "      --disabled-bg-color: #DDD;\n",
              "  }\n",
              "\n",
              "  [theme=dark] .colab-df-quickchart {\n",
              "      --bg-color: #3B4455;\n",
              "      --fill-color: #D2E3FC;\n",
              "      --hover-bg-color: #434B5C;\n",
              "      --hover-fill-color: #FFFFFF;\n",
              "      --disabled-bg-color: #3B4455;\n",
              "      --disabled-fill-color: #666;\n",
              "  }\n",
              "\n",
              "  .colab-df-quickchart {\n",
              "    background-color: var(--bg-color);\n",
              "    border: none;\n",
              "    border-radius: 50%;\n",
              "    cursor: pointer;\n",
              "    display: none;\n",
              "    fill: var(--fill-color);\n",
              "    height: 32px;\n",
              "    padding: 0;\n",
              "    width: 32px;\n",
              "  }\n",
              "\n",
              "  .colab-df-quickchart:hover {\n",
              "    background-color: var(--hover-bg-color);\n",
              "    box-shadow: 0 1px 2px rgba(60, 64, 67, 0.3), 0 1px 3px 1px rgba(60, 64, 67, 0.15);\n",
              "    fill: var(--button-hover-fill-color);\n",
              "  }\n",
              "\n",
              "  .colab-df-quickchart-complete:disabled,\n",
              "  .colab-df-quickchart-complete:disabled:hover {\n",
              "    background-color: var(--disabled-bg-color);\n",
              "    fill: var(--disabled-fill-color);\n",
              "    box-shadow: none;\n",
              "  }\n",
              "\n",
              "  .colab-df-spinner {\n",
              "    border: 2px solid var(--fill-color);\n",
              "    border-color: transparent;\n",
              "    border-bottom-color: var(--fill-color);\n",
              "    animation:\n",
              "      spin 1s steps(1) infinite;\n",
              "  }\n",
              "\n",
              "  @keyframes spin {\n",
              "    0% {\n",
              "      border-color: transparent;\n",
              "      border-bottom-color: var(--fill-color);\n",
              "      border-left-color: var(--fill-color);\n",
              "    }\n",
              "    20% {\n",
              "      border-color: transparent;\n",
              "      border-left-color: var(--fill-color);\n",
              "      border-top-color: var(--fill-color);\n",
              "    }\n",
              "    30% {\n",
              "      border-color: transparent;\n",
              "      border-left-color: var(--fill-color);\n",
              "      border-top-color: var(--fill-color);\n",
              "      border-right-color: var(--fill-color);\n",
              "    }\n",
              "    40% {\n",
              "      border-color: transparent;\n",
              "      border-right-color: var(--fill-color);\n",
              "      border-top-color: var(--fill-color);\n",
              "    }\n",
              "    60% {\n",
              "      border-color: transparent;\n",
              "      border-right-color: var(--fill-color);\n",
              "    }\n",
              "    80% {\n",
              "      border-color: transparent;\n",
              "      border-right-color: var(--fill-color);\n",
              "      border-bottom-color: var(--fill-color);\n",
              "    }\n",
              "    90% {\n",
              "      border-color: transparent;\n",
              "      border-bottom-color: var(--fill-color);\n",
              "    }\n",
              "  }\n",
              "</style>\n",
              "\n",
              "  <script>\n",
              "    async function quickchart(key) {\n",
              "      const quickchartButtonEl =\n",
              "        document.querySelector('#' + key + ' button');\n",
              "      quickchartButtonEl.disabled = true;  // To prevent multiple clicks.\n",
              "      quickchartButtonEl.classList.add('colab-df-spinner');\n",
              "      try {\n",
              "        const charts = await google.colab.kernel.invokeFunction(\n",
              "            'suggestCharts', [key], {});\n",
              "      } catch (error) {\n",
              "        console.error('Error during call to suggestCharts:', error);\n",
              "      }\n",
              "      quickchartButtonEl.classList.remove('colab-df-spinner');\n",
              "      quickchartButtonEl.classList.add('colab-df-quickchart-complete');\n",
              "    }\n",
              "    (() => {\n",
              "      let quickchartButtonEl =\n",
              "        document.querySelector('#df-5db00367-c8b1-404f-bf09-aa2ee1621c1a button');\n",
              "      quickchartButtonEl.style.display =\n",
              "        google.colab.kernel.accessAllowed ? 'block' : 'none';\n",
              "    })();\n",
              "  </script>\n",
              "</div>\n",
              "\n",
              "    </div>\n",
              "  </div>\n"
            ],
            "application/vnd.google.colaboratory.intrinsic+json": {
              "type": "dataframe",
              "variable_name": "df"
            }
          },
          "metadata": {},
          "execution_count": 5
        }
      ]
    },
    {
      "cell_type": "code",
      "source": [
        "df.shape # Displays the total count of the Rows and Columns respectively."
      ],
      "metadata": {
        "colab": {
          "base_uri": "https://localhost:8080/"
        },
        "id": "4q8NQ_Gx6pQ4",
        "outputId": "3656e1ca-665c-4723-c7b7-cc4be62d9108"
      },
      "execution_count": 6,
      "outputs": [
        {
          "output_type": "execute_result",
          "data": {
            "text/plain": [
              "(151, 54677)"
            ]
          },
          "metadata": {},
          "execution_count": 6
        }
      ]
    },
    {
      "cell_type": "code",
      "source": [
        "df.isnull().sum() #Is used to display the dimensions of the DataFrame df. Giving you a quick overview of the size of your dataset."
      ],
      "metadata": {
        "colab": {
          "base_uri": "https://localhost:8080/",
          "height": 458
        },
        "id": "-oSvR7d16vWa",
        "outputId": "f336220b-7ec1-483a-bc1e-61ed8c08f3c9"
      },
      "execution_count": 7,
      "outputs": [
        {
          "output_type": "execute_result",
          "data": {
            "text/plain": [
              "samples            0\n",
              "type               0\n",
              "1007_s_at          0\n",
              "1053_at            0\n",
              "117_at             0\n",
              "                  ..\n",
              "AFFX-ThrX-5_at     0\n",
              "AFFX-ThrX-M_at     0\n",
              "AFFX-TrpnX-3_at    0\n",
              "AFFX-TrpnX-5_at    0\n",
              "AFFX-TrpnX-M_at    0\n",
              "Length: 54677, dtype: int64"
            ],
            "text/html": [
              "<div>\n",
              "<style scoped>\n",
              "    .dataframe tbody tr th:only-of-type {\n",
              "        vertical-align: middle;\n",
              "    }\n",
              "\n",
              "    .dataframe tbody tr th {\n",
              "        vertical-align: top;\n",
              "    }\n",
              "\n",
              "    .dataframe thead th {\n",
              "        text-align: right;\n",
              "    }\n",
              "</style>\n",
              "<table border=\"1\" class=\"dataframe\">\n",
              "  <thead>\n",
              "    <tr style=\"text-align: right;\">\n",
              "      <th></th>\n",
              "      <th>0</th>\n",
              "    </tr>\n",
              "  </thead>\n",
              "  <tbody>\n",
              "    <tr>\n",
              "      <th>samples</th>\n",
              "      <td>0</td>\n",
              "    </tr>\n",
              "    <tr>\n",
              "      <th>type</th>\n",
              "      <td>0</td>\n",
              "    </tr>\n",
              "    <tr>\n",
              "      <th>1007_s_at</th>\n",
              "      <td>0</td>\n",
              "    </tr>\n",
              "    <tr>\n",
              "      <th>1053_at</th>\n",
              "      <td>0</td>\n",
              "    </tr>\n",
              "    <tr>\n",
              "      <th>117_at</th>\n",
              "      <td>0</td>\n",
              "    </tr>\n",
              "    <tr>\n",
              "      <th>...</th>\n",
              "      <td>...</td>\n",
              "    </tr>\n",
              "    <tr>\n",
              "      <th>AFFX-ThrX-5_at</th>\n",
              "      <td>0</td>\n",
              "    </tr>\n",
              "    <tr>\n",
              "      <th>AFFX-ThrX-M_at</th>\n",
              "      <td>0</td>\n",
              "    </tr>\n",
              "    <tr>\n",
              "      <th>AFFX-TrpnX-3_at</th>\n",
              "      <td>0</td>\n",
              "    </tr>\n",
              "    <tr>\n",
              "      <th>AFFX-TrpnX-5_at</th>\n",
              "      <td>0</td>\n",
              "    </tr>\n",
              "    <tr>\n",
              "      <th>AFFX-TrpnX-M_at</th>\n",
              "      <td>0</td>\n",
              "    </tr>\n",
              "  </tbody>\n",
              "</table>\n",
              "<p>54677 rows × 1 columns</p>\n",
              "</div><br><label><b>dtype:</b> int64</label>"
            ]
          },
          "metadata": {},
          "execution_count": 7
        }
      ]
    },
    {
      "cell_type": "markdown",
      "source": [
        "###There is no null or missing value in the dataset."
      ],
      "metadata": {
        "id": "8zv-mLHA9R0K"
      }
    },
    {
      "cell_type": "code",
      "source": [
        "df.info() #Displays the total count of values present in the particular column along with the null count and data type."
      ],
      "metadata": {
        "colab": {
          "base_uri": "https://localhost:8080/"
        },
        "id": "xMcrxaEB7GfM",
        "outputId": "bbe48231-ae43-462d-ca6b-75528be9fa4f"
      },
      "execution_count": 8,
      "outputs": [
        {
          "output_type": "stream",
          "name": "stdout",
          "text": [
            "<class 'pandas.core.frame.DataFrame'>\n",
            "RangeIndex: 151 entries, 0 to 150\n",
            "Columns: 54677 entries, samples to AFFX-TrpnX-M_at\n",
            "dtypes: float64(54675), int64(1), object(1)\n",
            "memory usage: 63.0+ MB\n"
          ]
        }
      ]
    },
    {
      "cell_type": "code",
      "source": [
        "df[df.duplicated()] #This code returns the count of duplicate rows in the DataFrame df."
      ],
      "metadata": {
        "colab": {
          "base_uri": "https://localhost:8080/",
          "height": 96
        },
        "id": "gZFULfQN9Xku",
        "outputId": "833a500b-c15e-4f41-fb9c-7091a8721601"
      },
      "execution_count": 9,
      "outputs": [
        {
          "output_type": "execute_result",
          "data": {
            "text/plain": [
              "Empty DataFrame\n",
              "Columns: [samples, type, 1007_s_at, 1053_at, 117_at, 121_at, 1255_g_at, 1294_at, 1316_at, 1320_at, 1405_i_at, 1431_at, 1438_at, 1487_at, 1494_f_at, 1552256_a_at, 1552257_a_at, 1552258_at, 1552261_at, 1552263_at, 1552264_a_at, 1552266_at, 1552269_at, 1552271_at, 1552272_a_at, 1552274_at, 1552275_s_at, 1552276_a_at, 1552277_a_at, 1552278_a_at, 1552279_a_at, 1552280_at, 1552281_at, 1552283_s_at, 1552286_at, 1552287_s_at, 1552288_at, 1552289_a_at, 1552291_at, 1552293_at, 1552295_a_at, 1552296_at, 1552299_at, 1552301_a_at, 1552302_at, 1552303_a_at, 1552304_at, 1552306_at, 1552307_a_at, 1552309_a_at, 1552310_at, 1552311_a_at, 1552312_a_at, 1552314_a_at, 1552315_at, 1552316_a_at, 1552318_at, 1552319_a_at, 1552320_a_at, 1552321_a_at, 1552322_at, 1552323_s_at, 1552325_at, 1552326_a_at, 1552327_at, 1552329_at, 1552330_at, 1552332_at, 1552334_at, 1552335_at, 1552337_s_at, 1552338_at, 1552340_at, 1552343_s_at, 1552344_s_at, 1552347_at, 1552348_at, 1552349_a_at, 1552354_at, 1552355_s_at, 1552359_at, 1552360_a_at, 1552362_a_at, 1552364_s_at, 1552365_at, 1552367_a_at, 1552368_at, 1552370_at, 1552372_at, 1552373_s_at, 1552375_at, 1552377_s_at, 1552378_s_at, 1552379_at, 1552381_at, 1552383_at, 1552384_a_at, 1552386_at, 1552388_at, 1552389_at, ...]\n",
              "Index: []\n",
              "\n",
              "[0 rows x 54677 columns]"
            ],
            "text/html": [
              "\n",
              "  <div id=\"df-5c41796b-e3d2-4833-868f-efe3e52a1846\" class=\"colab-df-container\">\n",
              "    <div>\n",
              "<style scoped>\n",
              "    .dataframe tbody tr th:only-of-type {\n",
              "        vertical-align: middle;\n",
              "    }\n",
              "\n",
              "    .dataframe tbody tr th {\n",
              "        vertical-align: top;\n",
              "    }\n",
              "\n",
              "    .dataframe thead th {\n",
              "        text-align: right;\n",
              "    }\n",
              "</style>\n",
              "<table border=\"1\" class=\"dataframe\">\n",
              "  <thead>\n",
              "    <tr style=\"text-align: right;\">\n",
              "      <th></th>\n",
              "      <th>samples</th>\n",
              "      <th>type</th>\n",
              "      <th>1007_s_at</th>\n",
              "      <th>1053_at</th>\n",
              "      <th>117_at</th>\n",
              "      <th>121_at</th>\n",
              "      <th>1255_g_at</th>\n",
              "      <th>1294_at</th>\n",
              "      <th>1316_at</th>\n",
              "      <th>1320_at</th>\n",
              "      <th>...</th>\n",
              "      <th>AFFX-r2-Ec-bioD-3_at</th>\n",
              "      <th>AFFX-r2-Ec-bioD-5_at</th>\n",
              "      <th>AFFX-r2-P1-cre-3_at</th>\n",
              "      <th>AFFX-r2-P1-cre-5_at</th>\n",
              "      <th>AFFX-ThrX-3_at</th>\n",
              "      <th>AFFX-ThrX-5_at</th>\n",
              "      <th>AFFX-ThrX-M_at</th>\n",
              "      <th>AFFX-TrpnX-3_at</th>\n",
              "      <th>AFFX-TrpnX-5_at</th>\n",
              "      <th>AFFX-TrpnX-M_at</th>\n",
              "    </tr>\n",
              "  </thead>\n",
              "  <tbody>\n",
              "  </tbody>\n",
              "</table>\n",
              "<p>0 rows × 54677 columns</p>\n",
              "</div>\n",
              "    <div class=\"colab-df-buttons\">\n",
              "\n",
              "  <div class=\"colab-df-container\">\n",
              "    <button class=\"colab-df-convert\" onclick=\"convertToInteractive('df-5c41796b-e3d2-4833-868f-efe3e52a1846')\"\n",
              "            title=\"Convert this dataframe to an interactive table.\"\n",
              "            style=\"display:none;\">\n",
              "\n",
              "  <svg xmlns=\"http://www.w3.org/2000/svg\" height=\"24px\" viewBox=\"0 -960 960 960\">\n",
              "    <path d=\"M120-120v-720h720v720H120Zm60-500h600v-160H180v160Zm220 220h160v-160H400v160Zm0 220h160v-160H400v160ZM180-400h160v-160H180v160Zm440 0h160v-160H620v160ZM180-180h160v-160H180v160Zm440 0h160v-160H620v160Z\"/>\n",
              "  </svg>\n",
              "    </button>\n",
              "\n",
              "  <style>\n",
              "    .colab-df-container {\n",
              "      display:flex;\n",
              "      gap: 12px;\n",
              "    }\n",
              "\n",
              "    .colab-df-convert {\n",
              "      background-color: #E8F0FE;\n",
              "      border: none;\n",
              "      border-radius: 50%;\n",
              "      cursor: pointer;\n",
              "      display: none;\n",
              "      fill: #1967D2;\n",
              "      height: 32px;\n",
              "      padding: 0 0 0 0;\n",
              "      width: 32px;\n",
              "    }\n",
              "\n",
              "    .colab-df-convert:hover {\n",
              "      background-color: #E2EBFA;\n",
              "      box-shadow: 0px 1px 2px rgba(60, 64, 67, 0.3), 0px 1px 3px 1px rgba(60, 64, 67, 0.15);\n",
              "      fill: #174EA6;\n",
              "    }\n",
              "\n",
              "    .colab-df-buttons div {\n",
              "      margin-bottom: 4px;\n",
              "    }\n",
              "\n",
              "    [theme=dark] .colab-df-convert {\n",
              "      background-color: #3B4455;\n",
              "      fill: #D2E3FC;\n",
              "    }\n",
              "\n",
              "    [theme=dark] .colab-df-convert:hover {\n",
              "      background-color: #434B5C;\n",
              "      box-shadow: 0px 1px 3px 1px rgba(0, 0, 0, 0.15);\n",
              "      filter: drop-shadow(0px 1px 2px rgba(0, 0, 0, 0.3));\n",
              "      fill: #FFFFFF;\n",
              "    }\n",
              "  </style>\n",
              "\n",
              "    <script>\n",
              "      const buttonEl =\n",
              "        document.querySelector('#df-5c41796b-e3d2-4833-868f-efe3e52a1846 button.colab-df-convert');\n",
              "      buttonEl.style.display =\n",
              "        google.colab.kernel.accessAllowed ? 'block' : 'none';\n",
              "\n",
              "      async function convertToInteractive(key) {\n",
              "        const element = document.querySelector('#df-5c41796b-e3d2-4833-868f-efe3e52a1846');\n",
              "        const dataTable =\n",
              "          await google.colab.kernel.invokeFunction('convertToInteractive',\n",
              "                                                    [key], {});\n",
              "        if (!dataTable) return;\n",
              "\n",
              "        const docLinkHtml = 'Like what you see? Visit the ' +\n",
              "          '<a target=\"_blank\" href=https://colab.research.google.com/notebooks/data_table.ipynb>data table notebook</a>'\n",
              "          + ' to learn more about interactive tables.';\n",
              "        element.innerHTML = '';\n",
              "        dataTable['output_type'] = 'display_data';\n",
              "        await google.colab.output.renderOutput(dataTable, element);\n",
              "        const docLink = document.createElement('div');\n",
              "        docLink.innerHTML = docLinkHtml;\n",
              "        element.appendChild(docLink);\n",
              "      }\n",
              "    </script>\n",
              "  </div>\n",
              "\n",
              "\n",
              "    </div>\n",
              "  </div>\n"
            ],
            "application/vnd.google.colaboratory.intrinsic+json": {
              "type": "dataframe"
            }
          },
          "metadata": {},
          "execution_count": 9
        }
      ]
    },
    {
      "cell_type": "code",
      "source": [
        "# Check the data types of each column\n",
        "print(df.dtypes)\n"
      ],
      "metadata": {
        "colab": {
          "base_uri": "https://localhost:8080/"
        },
        "id": "nuY6Sq3iItHU",
        "outputId": "2d680d7c-aa28-44c9-8490-446d3d04f6ea"
      },
      "execution_count": 11,
      "outputs": [
        {
          "output_type": "stream",
          "name": "stdout",
          "text": [
            "samples              int64\n",
            "type                object\n",
            "1007_s_at          float64\n",
            "1053_at            float64\n",
            "117_at             float64\n",
            "                    ...   \n",
            "AFFX-ThrX-5_at     float64\n",
            "AFFX-ThrX-M_at     float64\n",
            "AFFX-TrpnX-3_at    float64\n",
            "AFFX-TrpnX-5_at    float64\n",
            "AFFX-TrpnX-M_at    float64\n",
            "Length: 54677, dtype: object\n"
          ]
        }
      ]
    },
    {
      "cell_type": "code",
      "source": [
        "from sklearn.preprocessing import LabelEncoder #This class is used to convert categorical data (like strings) into numerical labels.\n",
        "\n",
        "# Apply Label Encoding to each categorical column\n",
        "for col in df.select_dtypes(include=[object]).columns: #Iterates through each column in the DataFrame df that contains categorical data (identified by the object data type).\n",
        "    le = LabelEncoder() #Creates an instance of the LabelEncoder for each categorical column.\n",
        "    df[col] = le.fit_transform(df[col])\n"
      ],
      "metadata": {
        "id": "WNvTrhoGJI0H"
      },
      "execution_count": 12,
      "outputs": []
    },
    {
      "cell_type": "markdown",
      "source": [
        "le.fit_transform(): Fits the encoder to the unique categories in the column (fit) and then transforms the categorical values into numerical labels (transform).\n",
        "The transformed numerical labels replace the original categorical values in the DataFrame.\n",
        "\n",
        "Purpose:\n",
        "\n",
        "Many machine learning algorithms require numerical input data. Label Encoding is a simple technique to convert categorical features into a numerical format that these algorithms can understand. It assigns a unique numerical label (starting from 0) to each category within a feature."
      ],
      "metadata": {
        "id": "dmCKS_1MvGHP"
      }
    },
    {
      "cell_type": "code",
      "source": [
        "from sklearn.preprocessing import StandardScaler  #Data Scaling\n",
        "from sklearn.decomposition import PCA #Dimensionality Reduction\n",
        "from sklearn.manifold import TSNE #Visualization\n",
        "import matplotlib.pyplot as plt #Plotting"
      ],
      "metadata": {
        "id": "24MrtsCCj5Zr"
      },
      "execution_count": 13,
      "outputs": []
    },
    {
      "cell_type": "markdown",
      "source": [
        "# Preprocessing"
      ],
      "metadata": {
        "id": "vWD_UFDfuYCe"
      }
    },
    {
      "cell_type": "code",
      "source": [
        "df_numeric = df.select_dtypes(include=[float, int])\n",
        "#This line selects only the columns in your DataFrame df that contain numerical data (either floating-point numbers or integers).\n",
        "#This creates a new DataFrame df_numeric with just the numerical features.\n",
        "\n",
        "scaler = StandardScaler()\n",
        "#This initializes a StandardScaler object from scikit-learn. This scaler standardizes features by removing the mean and scaling to unit variance.\n",
        "\n",
        "X_scaled = scaler.fit_transform(df_numeric)\n",
        "#This line does two things:\n",
        "#fit: Calculates the mean and standard deviation for each numerical feature in df_numeric.\n",
        "#transform: Applies the standardization by subtracting the mean and dividing by the standard deviation for each feature, resulting in a scaled dataset X_scaled.\n"
      ],
      "metadata": {
        "id": "sBI-2m2Qj6XZ"
      },
      "execution_count": 14,
      "outputs": []
    },
    {
      "cell_type": "markdown",
      "source": [
        "##Purpose and Influence:\n",
        "\n",
        "###Importance of Scaling: Many machine learning algorithms (especially those based on distance calculations like k-NN, SVM, or those using gradient descent) perform better when numerical features are on a similar scale.\n",
        "###Influence on Dataset: Feature scaling prevents features with larger ranges from dominating the learning process. It ensures that all features contribute equally to the model training, leading to potentially better model performance and faster convergence."
      ],
      "metadata": {
        "id": "O6Cn7r1Cx2eB"
      }
    },
    {
      "cell_type": "code",
      "source": [
        "# Optional: Apply PCA for dimensionality reduction\n",
        "pca = PCA(n_components=50)\n",
        "#Initializes a PCA object from scikit-learn, setting the number of components (dimensions) to keep after reduction to 50.\n",
        "X_pca = pca.fit_transform(X_scaled)\n",
        "#fit: Learns the principal components from the scaled data X_scaled.\n",
        "#transform: Projects the scaled data onto the first 50 principal components, reducing the dimensionality of the data to 50 features."
      ],
      "metadata": {
        "id": "2wsVgUcFl2hY"
      },
      "execution_count": 15,
      "outputs": []
    },
    {
      "cell_type": "markdown",
      "source": [
        "###Purpose and Influence:\n",
        "\n",
        "####Purpose of PCA: PCA is used to reduce the number of features in a dataset while retaining as much of the original variance as possible. This can help with:\n",
        "\n",
        "* Speeding up model training.\n",
        "* Reducing noise and overfitting.\n",
        "* Visualizing high-dimensional data in lower dimensions.\n",
        "\n",
        "####Influence on Dataset: PCA transforms the original features into a new set of uncorrelated features (principal components) that capture the most important patterns in the data. The dataset is now represented in a lower-dimensional space, which can be easier to analyze and visualize.\n",
        "\n",
        "####In the t-SNE analysis, applying PCA beforehand can potentially improve the results by:\n",
        "\n",
        "* Removing noise: PCA can filter out less important variations in the data.\n",
        "* Speeding up t-SNE: t-SNE is computationally expensive for high-dimensional data, so reducing dimensionality with PCA first can make it more efficient"
      ],
      "metadata": {
        "id": "f8WE_HAgzgSX"
      }
    },
    {
      "cell_type": "code",
      "source": [
        "# t-SNE Modeling\n",
        "tsne = TSNE(n_components=2, perplexity=30, n_iter=1000, random_state=42)  #Initializes a t-SNE object:\n",
        "X_tsne = tsne.fit_transform(X_pca)"
      ],
      "metadata": {
        "id": "PaIP86Zjl_GR"
      },
      "execution_count": 16,
      "outputs": []
    },
    {
      "cell_type": "markdown",
      "source": [
        "###1. tsne = TSNE(n_components=2, perplexity=30, n_iter=1000, random_state=42): Initializes a t-SNE object:\n",
        "\n",
        "* n_components=2: Specifies that the data should be reduced to 2 dimensions for visualization.\n",
        "* perplexity=30: Controls the local neighborhood size considered when computing similarities between data points.\n",
        "* n_iter=1000: Sets the number of iterations for the optimization process.\n",
        "* random_state=42: Ensures reproducibility of the results.\n",
        "\n",
        "###2. X_tsne = tsne.fit_transform(X_pca):\n",
        "\n",
        "* fit_transform: Applies t-SNE to the data X_pca (which was likely obtained after PCA), reducing it to 2 dimensions and storing the result in X_tsne.\n",
        "\n",
        "##Purpose and Influence:\n",
        "\n",
        "* Purpose of t-SNE: t-SNE is a non-linear dimensionality reduction technique primarily used for visualization of high-dimensional data. It aims to preserve the local structure of the data, meaning that points close to each other in the original high-dimensional space will also be close in the low-dimensional representation.\n",
        "\n",
        "* Influence on Dataset: t-SNE transforms the data into a 2D representation where you can visually explore clusters and patterns. It does not directly change the original dataset but provides a new way to visualize and understand the relationships between data points.\n",
        "\n",
        "In the analysis, t-SNE helps you visualize how the breast cancer gene expression samples cluster in a 2D space, potentially revealing distinct groups or patterns related to cancer vs. normal samples."
      ],
      "metadata": {
        "id": "qpyBzVi40nKC"
      }
    },
    {
      "cell_type": "code",
      "source": [
        "# Visualization\n",
        "plt.figure(figsize=(10, 7))\n",
        "plt.scatter(X_tsne[:, 0], X_tsne[:, 1], s=100, alpha=0.7)\n",
        "plt.title(\"t-SNE Visualization of Breast Cancer Gene Expression Data\")\n",
        "plt.xlabel(\"t-SNE Component 1\")\n",
        "plt.ylabel(\"t-SNE Component 2\")\n",
        "plt.show()"
      ],
      "metadata": {
        "colab": {
          "base_uri": "https://localhost:8080/",
          "height": 641
        },
        "id": "5E6xoWiAmyoU",
        "outputId": "9756881b-cea3-4288-fbe5-90f62b180138"
      },
      "execution_count": 17,
      "outputs": [
        {
          "output_type": "display_data",
          "data": {
            "text/plain": [
              "<Figure size 1000x700 with 1 Axes>"
            ],
            "image/png": "[encoded data removed]"
          },
          "metadata": {}
        }
      ]
    },
    {
      "cell_type": "markdown",
      "source": [
        "###This code creates a scatter plot to visualize the results of the t-SNE dimensionality reduction.\n",
        "\n",
        "###In simple words, it takes the 2-dimensional data generated by t-SNE and plots each data point as a dot on a graph. The position of each dot represents its location in the reduced 2D space. This allows you to see if there are any natural groupings or clusters within your data. The title, labels, and other settings just make the plot look nicer and easier to understand."
      ],
      "metadata": {
        "id": "U-rEQ3y82CXe"
      }
    },
    {
      "cell_type": "code",
      "source": [],
      "metadata": {
        "id": "wZm3a2nom2SV"
      },
      "execution_count": null,
      "outputs": []
    }
  ]
}